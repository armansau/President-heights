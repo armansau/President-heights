{
  "nbformat": 4,
  "nbformat_minor": 0,
  "metadata": {
    "colab": {
      "name": "Untitled2.ipynb",
      "provenance": [],
      "collapsed_sections": []
    },
    "kernelspec": {
      "name": "python3",
      "display_name": "Python 3"
    }
  },
  "cells": [
    {
      "cell_type": "code",
      "metadata": {
        "colab": {
          "base_uri": "https://localhost:8080/",
          "height": 522
        },
        "id": "25R7MfBwaXOA",
        "outputId": "67c6cfef-fa3e-4ba4-b7af-ef3c0c845d7f"
      },
      "source": [
        "import pandas as pd                     \r\n",
        "import matplotlib.pyplot as plt          # plotting\r\n",
        "import numpy as np\r\n",
        "from flask import request\r\n",
        "import requests\r\n",
        "import io\r\n",
        "import matplotlib.pyplot as plt\r\n",
        "import seaborn as sns\r\n",
        "\r\n",
        "\r\n",
        "url = \"https://raw.githubusercontent.com/amankharwal/US-presidents-heights/master/president_heights.csv\" # Make sure the url is the raw version of the file on GitHub\r\n",
        "download = requests.get(url).content\r\n",
        "\r\n",
        "# Reading the downloaded content and turning it into a pandas dataframe\r\n",
        "\r\n",
        "data = pd.read_csv(io.StringIO(download.decode('utf-8')))\r\n",
        "\r\n",
        "print(data.head())\r\n",
        "\r\n",
        "height = np.array(data[\"height(cm)\"])\r\n",
        "print(height)\r\n",
        "\r\n",
        "print(\"Mean of heights =\", height.mean())\r\n",
        "print(\"Standard Deviation of height =\", height.std())\r\n",
        "print(\"Minimum height =\", height.min())\r\n",
        "print(\"Maximum height =\", height.max())\r\n",
        "\r\n",
        "sns.set()\r\n",
        "\r\n",
        "plt.hist(height)\r\n",
        "plt.title(\"Height Distribution of Presidents of USA\")\r\n",
        "plt.xlabel(\"height(cm)\")\r\n",
        "plt.ylabel(\"Number\")\r\n",
        "plt.show()"
      ],
      "execution_count": 9,
      "outputs": [
        {
          "output_type": "stream",
          "text": [
            "   order               name  height(cm)\n",
            "0      1  George Washington         189\n",
            "1      2         John Adams         170\n",
            "2      3   Thomas Jefferson         189\n",
            "3      4      James Madison         163\n",
            "4      5       James Monroe         183\n",
            "[189 170 189 163 183 171 185 168 173 183 173 173 175 178 183 193 178 173\n",
            " 174 183 183 168 170 178 182 180 183 178 182 188 175 179 183 193 182 183\n",
            " 177 185 188 188 182 185]\n",
            "Mean of heights = 179.73809523809524\n",
            "Standard Deviation of height = 6.931843442745892\n",
            "Minimum height = 163\n",
            "Maximum height = 193\n"
          ],
          "name": "stdout"
        },
        {
          "output_type": "display_data",
          "data": {
            "image/png": "[encoded data removed]",
            "text/plain": [
              "<Figure size 432x288 with 1 Axes>"
            ]
          },
          "metadata": {
            "tags": []
          }
        }
      ]
    }
  ]
}